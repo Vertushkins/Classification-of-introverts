{
 "cells": [
  {
   "cell_type": "code",
   "execution_count": 1,
   "id": "e883348c",
   "metadata": {
    "_cell_guid": "b1076dfc-b9ad-4769-8c92-a6c4dae69d19",
    "_uuid": "8f2839f25d086af736a60e9eeb907d3b93b6e0e5",
    "execution": {
     "iopub.execute_input": "2025-07-05T20:42:39.635711Z",
     "iopub.status.busy": "2025-07-05T20:42:39.635292Z",
     "iopub.status.idle": "2025-07-05T20:42:41.881961Z",
     "shell.execute_reply": "2025-07-05T20:42:41.880699Z"
    },
    "papermill": {
     "duration": 2.253811,
     "end_time": "2025-07-05T20:42:41.884905",
     "exception": false,
     "start_time": "2025-07-05T20:42:39.631094",
     "status": "completed"
    },
    "tags": []
   },
   "outputs": [
    {
     "name": "stdout",
     "output_type": "stream",
     "text": [
      "/kaggle/input/playground-series-s5e7/sample_submission.csv\n",
      "/kaggle/input/playground-series-s5e7/train.csv\n",
      "/kaggle/input/playground-series-s5e7/test.csv\n"
     ]
    }
   ],
   "source": [
    "# This Python 3 environment comes with many helpful analytics libraries installed\n",
    "# It is defined by the kaggle/python Docker image: https://github.com/kaggle/docker-python\n",
    "# For example, here's several helpful packages to load\n",
    "\n",
    "import numpy as np # linear algebra\n",
    "import pandas as pd # data processing, CSV file I/O (e.g. pd.read_csv)\n",
    "\n",
    "# Input data files are available in the read-only \"../input/\" directory\n",
    "# For example, running this (by clicking run or pressing Shift+Enter) will list all files under the input directory\n",
    "\n",
    "import os\n",
    "for dirname, _, filenames in os.walk('/kaggle/input'):\n",
    "    for filename in filenames:\n",
    "        print(os.path.join(dirname, filename))\n",
    "\n",
    "# You can write up to 20GB to the current directory (/kaggle/working/) that gets preserved as output when you create a version using \"Save & Run All\" \n",
    "# You can also write temporary files to /kaggle/temp/, but they won't be saved outside of the current session"
   ]
  },
  {
   "cell_type": "code",
   "execution_count": 2,
   "id": "9a801d96",
   "metadata": {
    "execution": {
     "iopub.execute_input": "2025-07-05T20:42:41.895325Z",
     "iopub.status.busy": "2025-07-05T20:42:41.894369Z",
     "iopub.status.idle": "2025-07-05T20:42:41.983064Z",
     "shell.execute_reply": "2025-07-05T20:42:41.982011Z"
    },
    "papermill": {
     "duration": 0.095372,
     "end_time": "2025-07-05T20:42:41.984921",
     "exception": false,
     "start_time": "2025-07-05T20:42:41.889549",
     "status": "completed"
    },
    "tags": []
   },
   "outputs": [],
   "source": [
    "df_sample = pd.read_csv(\"/kaggle/input/playground-series-s5e7/sample_submission.csv\")\n",
    "df_train = pd.read_csv(\"/kaggle/input/playground-series-s5e7/train.csv\")\n",
    "df_test = pd.read_csv(\"/kaggle/input/playground-series-s5e7/test.csv\")"
   ]
  },
  {
   "cell_type": "code",
   "execution_count": 3,
   "id": "6a78cdcb",
   "metadata": {
    "execution": {
     "iopub.execute_input": "2025-07-05T20:42:41.991684Z",
     "iopub.status.busy": "2025-07-05T20:42:41.991339Z",
     "iopub.status.idle": "2025-07-05T20:42:42.035585Z",
     "shell.execute_reply": "2025-07-05T20:42:42.034369Z"
    },
    "papermill": {
     "duration": 0.050315,
     "end_time": "2025-07-05T20:42:42.037993",
     "exception": false,
     "start_time": "2025-07-05T20:42:41.987678",
     "status": "completed"
    },
    "tags": []
   },
   "outputs": [],
   "source": [
    "columns = df_train.columns[1:-1]\n",
    "modes = df_train.drop(columns=['id', 'Personality']).mode().iloc[0]\n",
    "df_train[columns] = df_train[columns].fillna(modes)"
   ]
  },
  {
   "cell_type": "code",
   "execution_count": 4,
   "id": "03227b5b",
   "metadata": {
    "execution": {
     "iopub.execute_input": "2025-07-05T20:42:42.047794Z",
     "iopub.status.busy": "2025-07-05T20:42:42.047319Z",
     "iopub.status.idle": "2025-07-05T20:42:42.075270Z",
     "shell.execute_reply": "2025-07-05T20:42:42.074076Z"
    },
    "papermill": {
     "duration": 0.035174,
     "end_time": "2025-07-05T20:42:42.077457",
     "exception": false,
     "start_time": "2025-07-05T20:42:42.042283",
     "status": "completed"
    },
    "tags": []
   },
   "outputs": [],
   "source": [
    "def to_numeric(df):\n",
    "    df['Time_spent_Alone'] = df['Time_spent_Alone'].astype(int)\n",
    "    df['Stage_fear'] = df['Stage_fear'].map({'Yes': 1, 'No': 0})\n",
    "    df['Social_event_attendance'] = df['Social_event_attendance'].astype(int)\n",
    "    df['Going_outside'] = df['Going_outside'].astype(int)\n",
    "    df['Drained_after_socializing'] = df['Drained_after_socializing'].map({'Yes': 1, 'No': 0})\n",
    "    df['Friends_circle_size'] = df['Friends_circle_size'].astype(int)\n",
    "    df['Post_frequency'] = df['Post_frequency'].astype(int)\n",
    "    return df\n",
    "\n",
    "df_train = to_numeric(df_train)\n",
    "df_train['Personality'] = df_train['Personality'].map({'Introvert': 1, 'Extrovert': 0})"
   ]
  },
  {
   "cell_type": "code",
   "execution_count": 5,
   "id": "ffc6afcf",
   "metadata": {
    "execution": {
     "iopub.execute_input": "2025-07-05T20:42:42.087966Z",
     "iopub.status.busy": "2025-07-05T20:42:42.087481Z",
     "iopub.status.idle": "2025-07-05T20:42:45.966328Z",
     "shell.execute_reply": "2025-07-05T20:42:45.965024Z"
    },
    "papermill": {
     "duration": 3.886406,
     "end_time": "2025-07-05T20:42:45.968176",
     "exception": false,
     "start_time": "2025-07-05T20:42:42.081770",
     "status": "completed"
    },
    "tags": []
   },
   "outputs": [
    {
     "data": {
      "text/html": [
       "<style>#sk-container-id-1 {color: black;background-color: white;}#sk-container-id-1 pre{padding: 0;}#sk-container-id-1 div.sk-toggleable {background-color: white;}#sk-container-id-1 label.sk-toggleable__label {cursor: pointer;display: block;width: 100%;margin-bottom: 0;padding: 0.3em;box-sizing: border-box;text-align: center;}#sk-container-id-1 label.sk-toggleable__label-arrow:before {content: \"▸\";float: left;margin-right: 0.25em;color: #696969;}#sk-container-id-1 label.sk-toggleable__label-arrow:hover:before {color: black;}#sk-container-id-1 div.sk-estimator:hover label.sk-toggleable__label-arrow:before {color: black;}#sk-container-id-1 div.sk-toggleable__content {max-height: 0;max-width: 0;overflow: hidden;text-align: left;background-color: #f0f8ff;}#sk-container-id-1 div.sk-toggleable__content pre {margin: 0.2em;color: black;border-radius: 0.25em;background-color: #f0f8ff;}#sk-container-id-1 input.sk-toggleable__control:checked~div.sk-toggleable__content {max-height: 200px;max-width: 100%;overflow: auto;}#sk-container-id-1 input.sk-toggleable__control:checked~label.sk-toggleable__label-arrow:before {content: \"▾\";}#sk-container-id-1 div.sk-estimator input.sk-toggleable__control:checked~label.sk-toggleable__label {background-color: #d4ebff;}#sk-container-id-1 div.sk-label input.sk-toggleable__control:checked~label.sk-toggleable__label {background-color: #d4ebff;}#sk-container-id-1 input.sk-hidden--visually {border: 0;clip: rect(1px 1px 1px 1px);clip: rect(1px, 1px, 1px, 1px);height: 1px;margin: -1px;overflow: hidden;padding: 0;position: absolute;width: 1px;}#sk-container-id-1 div.sk-estimator {font-family: monospace;background-color: #f0f8ff;border: 1px dotted black;border-radius: 0.25em;box-sizing: border-box;margin-bottom: 0.5em;}#sk-container-id-1 div.sk-estimator:hover {background-color: #d4ebff;}#sk-container-id-1 div.sk-parallel-item::after {content: \"\";width: 100%;border-bottom: 1px solid gray;flex-grow: 1;}#sk-container-id-1 div.sk-label:hover label.sk-toggleable__label {background-color: #d4ebff;}#sk-container-id-1 div.sk-serial::before {content: \"\";position: absolute;border-left: 1px solid gray;box-sizing: border-box;top: 0;bottom: 0;left: 50%;z-index: 0;}#sk-container-id-1 div.sk-serial {display: flex;flex-direction: column;align-items: center;background-color: white;padding-right: 0.2em;padding-left: 0.2em;position: relative;}#sk-container-id-1 div.sk-item {position: relative;z-index: 1;}#sk-container-id-1 div.sk-parallel {display: flex;align-items: stretch;justify-content: center;background-color: white;position: relative;}#sk-container-id-1 div.sk-item::before, #sk-container-id-1 div.sk-parallel-item::before {content: \"\";position: absolute;border-left: 1px solid gray;box-sizing: border-box;top: 0;bottom: 0;left: 50%;z-index: -1;}#sk-container-id-1 div.sk-parallel-item {display: flex;flex-direction: column;z-index: 1;position: relative;background-color: white;}#sk-container-id-1 div.sk-parallel-item:first-child::after {align-self: flex-end;width: 50%;}#sk-container-id-1 div.sk-parallel-item:last-child::after {align-self: flex-start;width: 50%;}#sk-container-id-1 div.sk-parallel-item:only-child::after {width: 0;}#sk-container-id-1 div.sk-dashed-wrapped {border: 1px dashed gray;margin: 0 0.4em 0.5em 0.4em;box-sizing: border-box;padding-bottom: 0.4em;background-color: white;}#sk-container-id-1 div.sk-label label {font-family: monospace;font-weight: bold;display: inline-block;line-height: 1.2em;}#sk-container-id-1 div.sk-label-container {text-align: center;}#sk-container-id-1 div.sk-container {/* jupyter's `normalize.less` sets `[hidden] { display: none; }` but bootstrap.min.css set `[hidden] { display: none !important; }` so we also need the `!important` here to be able to override the default hidden behavior on the sphinx rendered scikit-learn.org. See: https://github.com/scikit-learn/scikit-learn/issues/21755 */display: inline-block !important;position: relative;}#sk-container-id-1 div.sk-text-repr-fallback {display: none;}</style><div id=\"sk-container-id-1\" class=\"sk-top-container\"><div class=\"sk-text-repr-fallback\"><pre>GradientBoostingClassifier(learning_rate=0.01, max_features=&#x27;sqrt&#x27;,\n",
       "                           n_estimators=200, random_state=42, subsample=0.8)</pre><b>In a Jupyter environment, please rerun this cell to show the HTML representation or trust the notebook. <br />On GitHub, the HTML representation is unable to render, please try loading this page with nbviewer.org.</b></div><div class=\"sk-container\" hidden><div class=\"sk-item\"><div class=\"sk-estimator sk-toggleable\"><input class=\"sk-toggleable__control sk-hidden--visually\" id=\"sk-estimator-id-1\" type=\"checkbox\" checked><label for=\"sk-estimator-id-1\" class=\"sk-toggleable__label sk-toggleable__label-arrow\">GradientBoostingClassifier</label><div class=\"sk-toggleable__content\"><pre>GradientBoostingClassifier(learning_rate=0.01, max_features=&#x27;sqrt&#x27;,\n",
       "                           n_estimators=200, random_state=42, subsample=0.8)</pre></div></div></div></div></div>"
      ],
      "text/plain": [
       "GradientBoostingClassifier(learning_rate=0.01, max_features='sqrt',\n",
       "                           n_estimators=200, random_state=42, subsample=0.8)"
      ]
     },
     "execution_count": 5,
     "metadata": {},
     "output_type": "execute_result"
    }
   ],
   "source": [
    "from sklearn.preprocessing import StandardScaler\n",
    "from sklearn.ensemble import GradientBoostingClassifier\n",
    "\n",
    "scaler = StandardScaler()\n",
    "\n",
    "X = df_train.drop(columns=['id', 'Personality']).values\n",
    "y = df_train['Personality'].values\n",
    "\n",
    "gbc = GradientBoostingClassifier(\n",
    "    learning_rate=0.01,\n",
    "    max_depth=3,\n",
    "    max_features='sqrt',\n",
    "    min_samples_split=2,\n",
    "    n_estimators=200,\n",
    "    subsample=0.8,\n",
    "    random_state=42\n",
    ")\n",
    "\n",
    "gbc.fit(scaler.fit_transform(X), y)"
   ]
  },
  {
   "cell_type": "code",
   "execution_count": 6,
   "id": "408483ef",
   "metadata": {
    "execution": {
     "iopub.execute_input": "2025-07-05T20:42:45.975293Z",
     "iopub.status.busy": "2025-07-05T20:42:45.974849Z",
     "iopub.status.idle": "2025-07-05T20:42:46.030147Z",
     "shell.execute_reply": "2025-07-05T20:42:46.028967Z"
    },
    "papermill": {
     "duration": 0.061273,
     "end_time": "2025-07-05T20:42:46.032315",
     "exception": false,
     "start_time": "2025-07-05T20:42:45.971042",
     "status": "completed"
    },
    "tags": []
   },
   "outputs": [],
   "source": [
    "X_test = df_test.drop(columns=['id'])\n",
    "\n",
    "X_test = X_test.fillna(modes)\n",
    "X_test = to_numeric(X_test)\n",
    "\n",
    "X_test = X_test.values\n",
    "X_test_scaled = scaler.transform(X_test)\n",
    "\n",
    "y_pred = gbc.predict(X_test_scaled)\n",
    "df_sample['Personality'] = pd.Series(y_pred).map({1: \"Introvert\", 0: \"Extrovert\"})\n",
    "\n",
    "df_sample.to_csv('submission.csv', index=False)"
   ]
  }
 ],
 "metadata": {
  "kaggle": {
   "accelerator": "none",
   "dataSources": [
    {
     "databundleVersionId": 12738969,
     "sourceId": 91718,
     "sourceType": "competition"
    }
   ],
   "dockerImageVersionId": 31040,
   "isGpuEnabled": false,
   "isInternetEnabled": true,
   "language": "python",
   "sourceType": "notebook"
  },
  "kernelspec": {
   "display_name": "Python 3",
   "language": "python",
   "name": "python3"
  },
  "language_info": {
   "codemirror_mode": {
    "name": "ipython",
    "version": 3
   },
   "file_extension": ".py",
   "mimetype": "text/x-python",
   "name": "python",
   "nbconvert_exporter": "python",
   "pygments_lexer": "ipython3",
   "version": "3.11.11"
  },
  "papermill": {
   "default_parameters": {},
   "duration": 12.563887,
   "end_time": "2025-07-05T20:42:46.657504",
   "environment_variables": {},
   "exception": null,
   "input_path": "__notebook__.ipynb",
   "output_path": "__notebook__.ipynb",
   "parameters": {},
   "start_time": "2025-07-05T20:42:34.093617",
   "version": "2.6.0"
  }
 },
 "nbformat": 4,
 "nbformat_minor": 5
}
